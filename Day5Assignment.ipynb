{
 "cells": [
  {
   "cell_type": "code",
   "execution_count": 1,
   "metadata": {},
   "outputs": [
    {
     "name": "stdout",
     "output_type": "stream",
     "text": [
      "it's a match\n"
     ]
    }
   ],
   "source": [
    "# problem 1\n",
    "lis=[1,1,5]\n",
    "lis1=[1,3,5,1,5,6]\n",
    "res=[]\n",
    "l=lis1\n",
    "for a in lis:\n",
    "    temp=[]\n",
    "    for b in l:\n",
    "        if(a==b):\n",
    "            res.append(a)\n",
    "            temp.append(b)\n",
    "            break\n",
    "        else:\n",
    "            temp.append(b)\n",
    "    for i in range(len(temp)):\n",
    "        l.remove(l[0])\n",
    "if(res==lis):\n",
    "    print(\"it's a match\")\n",
    "else:\n",
    "    print(\"it's gone\")\n",
    "        \n"
   ]
  },
  {
   "cell_type": "code",
   "execution_count": 3,
   "metadata": {},
   "outputs": [],
   "source": [
    "# problem 2\n",
    "pl=list(range(1,2501))\n",
    "def prime(num):\n",
    "    for i in range(2,(num//2)+1):\n",
    "        if(num%i==0):\n",
    "            return False\n",
    "    return True\n",
    "primeNum=list(filter(prime,pl))\n",
    "    "
   ]
  },
  {
   "cell_type": "code",
   "execution_count": 4,
   "metadata": {},
   "outputs": [
    {
     "name": "stdout",
     "output_type": "stream",
     "text": [
      "['Hey This Is Sai', 'I Am From Mumbai']\n"
     ]
    }
   ],
   "source": [
    "# Problem 3\n",
    "list=[\"hey this is sai\",\"i am from mumbai\"]\n",
    "def capitalize(lis):\n",
    "\tnew=[]\n",
    "\tfor a in lis:\n",
    "\t\ttemp=[]\n",
    "\t\tl=a.split()\n",
    "\t\tfor each in l:\n",
    "\t\t\teach=each.capitalize()\n",
    "\t\t\ttemp.append(each)\n",
    "\t\tn=' '.join(temp)\n",
    "\t\tnew.append(n)\n",
    "\tlis=new[:]\n",
    "\treturn lis\n",
    "list=capitalize(list)\n",
    "print(list)"
   ]
  },
  {
   "cell_type": "code",
   "execution_count": null,
   "metadata": {},
   "outputs": [],
   "source": []
  }
 ],
 "metadata": {
  "kernelspec": {
   "display_name": "Python 3",
   "language": "python",
   "name": "python3"
  },
  "language_info": {
   "codemirror_mode": {
    "name": "ipython",
    "version": 3
   },
   "file_extension": ".py",
   "mimetype": "text/x-python",
   "name": "python",
   "nbconvert_exporter": "python",
   "pygments_lexer": "ipython3",
   "version": "3.8.5"
  }
 },
 "nbformat": 4,
 "nbformat_minor": 4
}
